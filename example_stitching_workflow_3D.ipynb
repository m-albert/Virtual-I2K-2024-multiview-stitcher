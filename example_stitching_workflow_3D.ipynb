{
 "cells": [
  {
   "cell_type": "markdown",
   "metadata": {},
   "source": [
    "# Example 3D stitching workflow\n",
    "\n",
    "This notebook demonstrates a workflow for stitching (potentially large) 3D data available as tif stacks.\n",
    "\n",
    "#### 1) Download the example dataset\n",
    "\n",
    "This notebook uses the 3D example dataset (6 tiles, 3 channels) provided by BigStitcher: https://imagej.net/plugins/bigstitcher/#example-datasets.\n",
    "\n",
    "#### 2) Load and preposition the input tiles\n",
    "\n",
    "The input tiles are loaded as numpy or dask arrays. The tiles are prepositioned on a grid.\n",
    "\n",
    "#### 3) Tile registration\n",
    "\n",
    "The tiles are registered using one of the input channels. The obtained transform parameters can be read out.\n",
    "\n",
    "#### 4) Fuse the tiles into a single output image\n",
    "\n",
    "The registered tiles are combined (fused) into a single output image. Weighted averaging is used to smoothly blend the tiles at the tile boundaries by using pixel-wise weights that decrease in proximity to the tile boundaries."
   ]
  },
  {
   "cell_type": "markdown",
   "metadata": {},
   "source": [
    "### Downloading the example dataset"
   ]
  },
  {
   "cell_type": "code",
   "execution_count": null,
   "metadata": {},
   "outputs": [],
   "source": [
    "import os\n",
    "import zipfile\n",
    "from pathlib import Path\n",
    "\n",
    "url = \"https://preibischlab.mdc-berlin.de/BigStitcher/Grid_3d.zip\"\n",
    "\n",
    "# directory to save the data\n",
    "base_dir = os.path.join('./data', os.path.basename(url)[:-4])\n",
    "os.makedirs(base_dir, exist_ok=True)\n",
    "\n",
    "zip_filepath = os.path.join(base_dir, os.path.basename(url))\n",
    "\n",
    "# download\n",
    "if not os.path.exists(zip_filepath):\n",
    "    from urllib.request import urlretrieve\n",
    "    urlretrieve(url, zip_filepath)\n",
    "\n",
    "# unzip\n",
    "with zipfile.ZipFile(os.path.join(base_dir, os.path.basename(url)), 'r') as zip_ref:\n",
    "    zip_ref.extractall(base_dir)\n",
    "\n",
    "# get the list of files\n",
    "sorted(Path(base_dir).glob('*/*.tif'))"
   ]
  },
  {
   "cell_type": "markdown",
   "metadata": {},
   "source": [
    "## Defining the stitching input"
   ]
  },
  {
   "cell_type": "markdown",
   "metadata": {},
   "source": [
    "### Specifying the input files"
   ]
  },
  {
   "cell_type": "code",
   "execution_count": null,
   "metadata": {},
   "outputs": [],
   "source": [
    "import numpy as np\n",
    "\n",
    "# indicate the tiles and channels to process\n",
    "tiles = np.arange(73, 79)\n",
    "channels = np.arange(1, 4)\n",
    "\n",
    "def get_filename_from_tile_and_channel(tile, channel):\n",
    "    \"\"\"\n",
    "    This convenience function returns the filename given the tile and channel.\n",
    "    \"\"\"\n",
    "    return f'./data/Grid_3d/Grid1/C{channel:01d}-{tile:02d}.tif'\n",
    "\n",
    "print('Example filename:\\n', get_filename_from_tile_and_channel(tiles[0], channels[0]))"
   ]
  },
  {
   "cell_type": "markdown",
   "metadata": {},
   "source": [
    "### Reading the input files"
   ]
  },
  {
   "cell_type": "code",
   "execution_count": null,
   "metadata": {},
   "outputs": [],
   "source": [
    "import tifffile\n",
    "import aicsimageio\n",
    "\n",
    "def read_image(filename):\n",
    "\n",
    "    # use tifffile to read into a numpy array\n",
    "    ar = tifffile.imread(filename)\n",
    "\n",
    "    # alternatively: use aicsimageio to read the file\n",
    "    # aicsim = aicsimageio.AICSImage(filename)\n",
    "\n",
    "    # as a numpy array\n",
    "    # ar = aicsim.get_image_data().squeeze()\n",
    "\n",
    "    # or as a dask array\n",
    "    # ar = aicsim.get_dask_stack().squeeze()\n",
    "\n",
    "    return ar\n",
    "\n",
    "filename = get_filename_from_tile_and_channel(tiles[0], channels[0])\n",
    "ar = read_image(filename)\n",
    "ar"
   ]
  },
  {
   "cell_type": "code",
   "execution_count": null,
   "metadata": {},
   "outputs": [],
   "source": [
    "# read all tiles and concatenate channels into a single array\n",
    "\n",
    "tile_data = []\n",
    "for tile in tiles[:]:\n",
    "    tile_channels = []\n",
    "    for channel in channels:\n",
    "        filename = get_filename_from_tile_and_channel(tile, channel)\n",
    "        ar = read_image(filename)\n",
    "        tile_channels.append(ar)\n",
    "    tile_ar = np.stack(tile_channels)\n",
    "    tile_data.append(tile_ar)\n",
    "\n",
    "tile_data[0].shape, len(tile_data)"
   ]
  },
  {
   "cell_type": "markdown",
   "metadata": {},
   "source": [
    "### Attaching metadata to arrays"
   ]
  },
  {
   "cell_type": "code",
   "execution_count": null,
   "metadata": {},
   "outputs": [],
   "source": [
    "from multiview_stitcher import spatial_image_utils as si_utils\n",
    "\n",
    "# example with a single tile\n",
    "sim = si_utils.get_sim_from_array(\n",
    "    tile_data[0],\n",
    "    dims=['c', 'z', 'y', 'x'],\n",
    "    scale={'z': 5, 'y': 1, 'x': 1},\n",
    "    translation={'z': 2, 'y': 0, 'x': 0},\n",
    "    c_coords=['RFP', 'GFP', 'BFP'],\n",
    "    transform_key='manual_prepositioning',\n",
    "    # affine=np.eye(4),\n",
    ")\n",
    "\n",
    "sim"
   ]
  },
  {
   "cell_type": "markdown",
   "metadata": {},
   "source": [
    "### Converting a SpatialImage into a MultiscaleSpatialImage\n",
    "\n",
    "This will be the registration input."
   ]
  },
  {
   "cell_type": "code",
   "execution_count": null,
   "metadata": {},
   "outputs": [],
   "source": [
    "from multiview_stitcher import msi_utils\n",
    "\n",
    "msim = msi_utils.get_msim_from_sim(sim, scale_factors=[2, 4])\n",
    "msim"
   ]
  },
  {
   "cell_type": "markdown",
   "metadata": {},
   "source": [
    "### Prepositioning images on a regular grid"
   ]
  },
  {
   "cell_type": "markdown",
   "metadata": {},
   "source": [
    "First we define the grid layout."
   ]
  },
  {
   "cell_type": "code",
   "execution_count": null,
   "metadata": {},
   "outputs": [],
   "source": [
    "def get_tile_grid_position_from_tile_index(\n",
    "    tile_index,\n",
    "    tile_grid_shape=(2, 3)\n",
    "    ):\n",
    "    \"\"\"\n",
    "    This function returns the grid index for a given (linear) tile index.\n",
    "    E.g. for a 2x3 grid, the tile indices are:\n",
    "    0 1\n",
    "    2 3\n",
    "    4 5\n",
    "    \"\"\"\n",
    "    return {\n",
    "        'z': 0,\n",
    "        'y': tile_index // tile_grid_shape[0],\n",
    "        'x': tile_index % tile_grid_shape[0],\n",
    "    }\n",
    "\n",
    "get_tile_grid_position_from_tile_index(0, tile_grid_shape=(2, 3))"
   ]
  },
  {
   "cell_type": "markdown",
   "metadata": {},
   "source": [
    "Secondly we use the grid layout to preposition the images in physical space. Here we set the overlap between neighboring tiles."
   ]
  },
  {
   "cell_type": "code",
   "execution_count": null,
   "metadata": {},
   "outputs": [],
   "source": [
    "dims = ['z', 'y', 'x']\n",
    "scale = {'z': 5, 'y': 1, 'x': 1}\n",
    "overlap = 0.1\n",
    "grid_indices = [get_tile_grid_position_from_tile_index(itile, (2, 3)) for itile in range(len(tile_data))]\n",
    "shape = {dim: tile_data[0].shape[-idim] for idim, dim in enumerate(scale.keys())}\n",
    "translations = [\n",
    "    {dim: grid_indices[itile][dim] * (1 - overlap) * shape[dim] * scale[dim]\n",
    "    for dim in dims} for itile in range(len(tile_data))]\n",
    "\n",
    "translations"
   ]
  },
  {
   "cell_type": "markdown",
   "metadata": {},
   "source": [
    "Using the previously calculated positions we can now preposition all images."
   ]
  },
  {
   "cell_type": "code",
   "execution_count": 9,
   "metadata": {},
   "outputs": [],
   "source": [
    "sims = [\n",
    "    si_utils.get_sim_from_array(\n",
    "        tile_data[itile],\n",
    "        dims=['c', 'z', 'y', 'x'],\n",
    "        scale=scale,\n",
    "        translation=translations[itile],\n",
    "        transform_key='manual_prepositioning',\n",
    "        c_coords=['RFP', 'GFP', 'BFP'],\n",
    "    ) for itile in range(len(tile_data))\n",
    "]\n",
    "\n",
    "msims = [msi_utils.get_msim_from_sim(sim, scale_factors=[]) for sim in sims]"
   ]
  },
  {
   "cell_type": "markdown",
   "metadata": {},
   "source": [
    "### Visualizing the prepositioned tiles"
   ]
  },
  {
   "cell_type": "code",
   "execution_count": null,
   "metadata": {},
   "outputs": [],
   "source": [
    "# visualize the positions of the tiles\n",
    "\n",
    "from multiview_stitcher import vis_utils\n",
    "\n",
    "# uncomment the following line for 3D interactivity with the plot (requires ipympl to be installed)\n",
    "%matplotlib widget\n",
    "\n",
    "fig, ax = vis_utils.plot_positions(\n",
    "    msims,\n",
    "    use_positional_colors=True, # set to False for faster execution in case of more than 20 tiles/views\n",
    "    transform_key='manual_prepositioning'\n",
    "    )"
   ]
  },
  {
   "cell_type": "code",
   "execution_count": null,
   "metadata": {},
   "outputs": [],
   "source": [
    "from napari_stitcher import viewer_utils\n",
    "import napari\n",
    "\n",
    "viewer = napari.Viewer(ndisplay=3)\n",
    "\n",
    "lds = viewer_utils.create_image_layer_tuples_from_msims(\n",
    "    msims,\n",
    "    ch_coord='GFP',\n",
    "    transform_key='manual_prepositioning')\n",
    "\n",
    "viewer_utils.add_image_layer_tuples_to_viewer(viewer, lds)"
   ]
  },
  {
   "cell_type": "markdown",
   "metadata": {},
   "source": [
    "## Registering the tiles\n",
    "\n",
    "During registration, the tile positions are refined.\n"
   ]
  },
  {
   "cell_type": "code",
   "execution_count": null,
   "metadata": {},
   "outputs": [],
   "source": [
    "from multiview_stitcher import registration\n",
    "from dask.diagnostics import ProgressBar\n",
    "\n",
    "with ProgressBar():\n",
    "\n",
    "    params = registration.register(\n",
    "        msims,\n",
    "        registration_binning={'z': 1, 'y': 2, 'x': 2},\n",
    "        reg_channel='GFP',\n",
    "        transform_key='manual_prepositioning',\n",
    "        new_transform_key='registered',\n",
    "        plot_summary=True,\n",
    "    )"
   ]
  },
  {
   "cell_type": "markdown",
   "metadata": {},
   "source": [
    "### Printing the obtained parameters\n",
    "\n",
    "How to interpret these?\n",
    "   - parameters are expressed as homogeneous matrices of dimensions (n+1, n+1)\n",
    "   - the first n rows and columns correspond to the linear part of the transformation\n",
    "   - the first three elements of the last column correspond to the translation in (z, y, x)\n",
    "   - the parameters map the coordinates of the input files (considering their scale and translation) into a world coordinate system in which the tiles are registered\n"
   ]
  },
  {
   "cell_type": "code",
   "execution_count": null,
   "metadata": {},
   "outputs": [],
   "source": [
    "affine = msi_utils.get_transform_from_msim(msims[0], transform_key='registered')[0]\n",
    "affine"
   ]
  },
  {
   "cell_type": "code",
   "execution_count": null,
   "metadata": {},
   "outputs": [],
   "source": [
    "from multiview_stitcher import param_utils\n",
    "\n",
    "t = param_utils.translation_from_affine(affine)\n",
    "t"
   ]
  },
  {
   "cell_type": "markdown",
   "metadata": {},
   "source": [
    "### Visualize registration"
   ]
  },
  {
   "cell_type": "code",
   "execution_count": null,
   "metadata": {},
   "outputs": [],
   "source": [
    "from napari_stitcher import viewer_utils\n",
    "import napari\n",
    "\n",
    "viewer = napari.Viewer(ndisplay=3)\n",
    "\n",
    "lds = viewer_utils.create_image_layer_tuples_from_msims(\n",
    "    msims,\n",
    "    ch_coord='GFP',\n",
    "    transform_key='registered')\n",
    "\n",
    "viewer_utils.add_image_layer_tuples_to_viewer(viewer, lds)"
   ]
  },
  {
   "cell_type": "markdown",
   "metadata": {},
   "source": [
    "## Refining the registration"
   ]
  },
  {
   "cell_type": "code",
   "execution_count": null,
   "metadata": {},
   "outputs": [],
   "source": [
    "with ProgressBar():\n",
    "\n",
    "    params = registration.register(\n",
    "        msims,\n",
    "        registration_binning={'z': 1, 'y': 2, 'x': 2},\n",
    "        reg_channel='GFP',\n",
    "        transform_key='registered',\n",
    "        new_transform_key='affine_registered',\n",
    "        plot_summary=True,\n",
    "        pairwise_reg_func=registration.registration_ANTsPy,\n",
    "        pairwise_reg_func_kwargs={\n",
    "            'transform_types': ['Rigid', 'Affine'],\n",
    "            },\n",
    "        groupwise_resolution_kwargs={\n",
    "            'transform': 'affine',\n",
    "            }\n",
    "        )"
   ]
  },
  {
   "cell_type": "markdown",
   "metadata": {},
   "source": [
    "### Visualizing the refined results"
   ]
  },
  {
   "cell_type": "code",
   "execution_count": null,
   "metadata": {},
   "outputs": [],
   "source": [
    "from napari_stitcher import viewer_utils\n",
    "import napari\n",
    "\n",
    "viewer = napari.Viewer(ndisplay=3)\n",
    "\n",
    "lds = viewer_utils.create_image_layer_tuples_from_msims(\n",
    "    msims,\n",
    "    ch_coord='GFP',\n",
    "    transform_key='affine_registered',\n",
    "    positional_cmaps=False\n",
    "    )\n",
    "\n",
    "viewer_utils.add_image_layer_tuples_to_viewer(viewer, lds)\n",
    "\n",
    "# automatic coloring not working yet for affine transformations\n",
    "for il, l in enumerate(viewer.layers):\n",
    "    l.colormap = ['Green', 'Red'][sum(get_tile_grid_position_from_tile_index(il, (2, 3)).values()) % 2]"
   ]
  },
  {
   "cell_type": "markdown",
   "metadata": {},
   "source": [
    "## Fusion\n",
    "\n",
    "During fusion, the tiles are combined into a single image."
   ]
  },
  {
   "cell_type": "code",
   "execution_count": null,
   "metadata": {},
   "outputs": [],
   "source": [
    "from multiview_stitcher import fusion\n",
    "\n",
    "fused = fusion.fuse(\n",
    "    [msi_utils.get_sim_from_msim(msim) for msim in msims],\n",
    "    transform_key='affine_registered',\n",
    "    output_chunksize=256,\n",
    "    output_spacing={'z': 10, 'y': 2, 'x': 2},\n",
    "    )\n",
    "\n",
    "# this is a SpatialImage object\n",
    "fused\n",
    "\n",
    "# this is a dask array\n",
    "fused.data"
   ]
  },
  {
   "cell_type": "code",
   "execution_count": null,
   "metadata": {},
   "outputs": [],
   "source": [
    "# fuse in memory\n",
    "\n",
    "with ProgressBar():\n",
    "    fused = fused.compute()\n",
    "\n",
    "from matplotlib import pyplot as plt\n",
    "plt.figure()\n",
    "plt.imshow(fused.data.squeeze()[0].max(-3))"
   ]
  },
  {
   "cell_type": "markdown",
   "metadata": {},
   "source": [
    "### Stream fusion into zarr"
   ]
  },
  {
   "cell_type": "code",
   "execution_count": null,
   "metadata": {},
   "outputs": [],
   "source": [
    "from dask import array as da\n",
    "\n",
    "with ProgressBar():\n",
    "    fused.data = da.to_zarr(\n",
    "        fused.data,\n",
    "        \"./data/Grid_3d/fused.zarr\",\n",
    "        overwrite=True, return_stored=True, compute=True)"
   ]
  },
  {
   "cell_type": "markdown",
   "metadata": {},
   "source": [
    "### Visualize fusion in napari"
   ]
  },
  {
   "cell_type": "code",
   "execution_count": null,
   "metadata": {},
   "outputs": [],
   "source": [
    "from napari_stitcher import viewer_utils\n",
    "import napari\n",
    "\n",
    "viewer = napari.Viewer(ndisplay=3)\n",
    "\n",
    "lds = viewer_utils.create_image_layer_tuples_from_msim(\n",
    "    msi_utils.get_msim_from_sim(fused),\n",
    "    transform_key='affine_registered',\n",
    "    )\n",
    "\n",
    "viewer_utils.add_image_layer_tuples_to_viewer(viewer, lds)"
   ]
  },
  {
   "cell_type": "markdown",
   "metadata": {},
   "source": [
    "### Using a custom fusion function"
   ]
  },
  {
   "cell_type": "code",
   "execution_count": null,
   "metadata": {},
   "outputs": [],
   "source": [
    "# taken from multiview_stitcher.fusion\n",
    "from multiview_stitcher import weights\n",
    "def weighted_average_fusion(\n",
    "    transformed_views,\n",
    "    blending_weights,\n",
    "    fusion_weights=None,\n",
    "):\n",
    "    \"\"\"\n",
    "    Simple weighted average fusion.\n",
    "\n",
    "    Parameters\n",
    "    ----------\n",
    "    transformed_views : list of ndarrays\n",
    "        transformed input views\n",
    "    blending_weights : list of ndarrays\n",
    "        blending weights for each view\n",
    "    fusion_weights : list of ndarrays, optional\n",
    "        additional view weights for fusion, e.g. contrast weighted scores.\n",
    "        By default None.\n",
    "\n",
    "    Returns\n",
    "    -------\n",
    "    ndarray\n",
    "        Fusion of input views\n",
    "    \"\"\"\n",
    "\n",
    "    if fusion_weights is None:\n",
    "        additive_weights = blending_weights\n",
    "    else:\n",
    "        additive_weights = blending_weights * fusion_weights\n",
    "\n",
    "    additive_weights = weights.normalize_weights(additive_weights)\n",
    "\n",
    "    product = transformed_views * additive_weights\n",
    "\n",
    "    return np.nansum(product, axis=0).astype(transformed_views[0].dtype)\n",
    "\n",
    "\n",
    "# custom fusion function\n",
    "def max_fusion(\n",
    "    transformed_views,\n",
    "    blending_weights,\n",
    "    fusion_weights=None,\n",
    "):\n",
    "    \"\"\"\n",
    "    Maximum intensity fusion.\n",
    "    \"\"\"\n",
    "\n",
    "    return np.nanmax(transformed_views, axis=0)\n",
    "\n",
    "fused_max = fusion.fuse(\n",
    "    [msi_utils.get_sim_from_msim(msim) for msim in msims],\n",
    "    transform_key='affine_registered',\n",
    "    output_chunksize=256,\n",
    "    output_spacing={'z': 10, 'y': 2, 'x': 2},\n",
    "    fusion_func=max_fusion,\n",
    "    )"
   ]
  },
  {
   "cell_type": "code",
   "execution_count": null,
   "metadata": {},
   "outputs": [],
   "source": [
    "# fuse in memory\n",
    "\n",
    "with ProgressBar():\n",
    "    fused_max = fused_max.compute()\n",
    "\n",
    "from matplotlib import pyplot as plt\n",
    "plt.figure()\n",
    "plt.imshow(fused_max.data.squeeze()[0].max(-3))"
   ]
  },
  {
   "cell_type": "markdown",
   "metadata": {},
   "source": [
    "### Visualize the difference between the default and custom fusion"
   ]
  },
  {
   "cell_type": "code",
   "execution_count": null,
   "metadata": {},
   "outputs": [],
   "source": [
    "plt.figure()\n",
    "plt.imshow(np.abs(fused.data.astype(float) - fused_max.data).squeeze()[0].max(-3))"
   ]
  }
 ],
 "metadata": {
  "kernelspec": {
   "display_name": "ms_ns",
   "language": "python",
   "name": "python3"
  },
  "language_info": {
   "codemirror_mode": {
    "name": "ipython",
    "version": 3
   },
   "file_extension": ".py",
   "mimetype": "text/x-python",
   "name": "python",
   "nbconvert_exporter": "python",
   "pygments_lexer": "ipython3",
   "version": "3.10.15"
  }
 },
 "nbformat": 4,
 "nbformat_minor": 4
}
